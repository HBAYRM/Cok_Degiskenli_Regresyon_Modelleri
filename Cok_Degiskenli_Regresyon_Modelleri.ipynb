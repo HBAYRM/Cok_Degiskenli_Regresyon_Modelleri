{
 "cells": [
  {
   "cell_type": "code",
   "execution_count": 1,
   "metadata": {
    "id": "sHlanq7XIkI1"
   },
   "outputs": [],
   "source": [
    "import pandas as pd\n",
    "import numpy as np"
   ]
  },
  {
   "cell_type": "code",
   "execution_count": 2,
   "metadata": {
    "colab": {
     "base_uri": "https://localhost:8080/",
     "height": 423
    },
    "id": "zdsoUvU0xr6f",
    "outputId": "565d4993-d207-4519-ad1f-4e9423ca0efc"
   },
   "outputs": [
    {
     "ename": "FileNotFoundError",
     "evalue": "[Errno 2] No such file or directory: '/content/my_iris.csv'",
     "output_type": "error",
     "traceback": [
      "\u001b[1;31m---------------------------------------------------------------------------\u001b[0m",
      "\u001b[1;31mFileNotFoundError\u001b[0m                         Traceback (most recent call last)",
      "\u001b[1;32m~\\AppData\\Local\\Temp/ipykernel_7644/3978682203.py\u001b[0m in \u001b[0;36m<module>\u001b[1;34m\u001b[0m\n\u001b[0;32m      1\u001b[0m \u001b[1;31m#verilerin yüklenmesi\u001b[0m\u001b[1;33m\u001b[0m\u001b[1;33m\u001b[0m\u001b[0m\n\u001b[1;32m----> 2\u001b[1;33m \u001b[0mveriler\u001b[0m\u001b[1;33m=\u001b[0m\u001b[0mpd\u001b[0m\u001b[1;33m.\u001b[0m\u001b[0mread_csv\u001b[0m\u001b[1;33m(\u001b[0m\u001b[1;34m\"/content/my_iris.csv\"\u001b[0m\u001b[1;33m)\u001b[0m\u001b[1;33m\u001b[0m\u001b[1;33m\u001b[0m\u001b[0m\n\u001b[0m\u001b[0;32m      3\u001b[0m \u001b[0mveriler\u001b[0m\u001b[1;33m\u001b[0m\u001b[1;33m\u001b[0m\u001b[0m\n",
      "\u001b[1;32mC:\\ProgramData\\Anaconda3\\lib\\site-packages\\pandas\\util\\_decorators.py\u001b[0m in \u001b[0;36mwrapper\u001b[1;34m(*args, **kwargs)\u001b[0m\n\u001b[0;32m    309\u001b[0m                     \u001b[0mstacklevel\u001b[0m\u001b[1;33m=\u001b[0m\u001b[0mstacklevel\u001b[0m\u001b[1;33m,\u001b[0m\u001b[1;33m\u001b[0m\u001b[1;33m\u001b[0m\u001b[0m\n\u001b[0;32m    310\u001b[0m                 )\n\u001b[1;32m--> 311\u001b[1;33m             \u001b[1;32mreturn\u001b[0m \u001b[0mfunc\u001b[0m\u001b[1;33m(\u001b[0m\u001b[1;33m*\u001b[0m\u001b[0margs\u001b[0m\u001b[1;33m,\u001b[0m \u001b[1;33m**\u001b[0m\u001b[0mkwargs\u001b[0m\u001b[1;33m)\u001b[0m\u001b[1;33m\u001b[0m\u001b[1;33m\u001b[0m\u001b[0m\n\u001b[0m\u001b[0;32m    312\u001b[0m \u001b[1;33m\u001b[0m\u001b[0m\n\u001b[0;32m    313\u001b[0m         \u001b[1;32mreturn\u001b[0m \u001b[0mwrapper\u001b[0m\u001b[1;33m\u001b[0m\u001b[1;33m\u001b[0m\u001b[0m\n",
      "\u001b[1;32mC:\\ProgramData\\Anaconda3\\lib\\site-packages\\pandas\\io\\parsers\\readers.py\u001b[0m in \u001b[0;36mread_csv\u001b[1;34m(filepath_or_buffer, sep, delimiter, header, names, index_col, usecols, squeeze, prefix, mangle_dupe_cols, dtype, engine, converters, true_values, false_values, skipinitialspace, skiprows, skipfooter, nrows, na_values, keep_default_na, na_filter, verbose, skip_blank_lines, parse_dates, infer_datetime_format, keep_date_col, date_parser, dayfirst, cache_dates, iterator, chunksize, compression, thousands, decimal, lineterminator, quotechar, quoting, doublequote, escapechar, comment, encoding, encoding_errors, dialect, error_bad_lines, warn_bad_lines, on_bad_lines, delim_whitespace, low_memory, memory_map, float_precision, storage_options)\u001b[0m\n\u001b[0;32m    584\u001b[0m     \u001b[0mkwds\u001b[0m\u001b[1;33m.\u001b[0m\u001b[0mupdate\u001b[0m\u001b[1;33m(\u001b[0m\u001b[0mkwds_defaults\u001b[0m\u001b[1;33m)\u001b[0m\u001b[1;33m\u001b[0m\u001b[1;33m\u001b[0m\u001b[0m\n\u001b[0;32m    585\u001b[0m \u001b[1;33m\u001b[0m\u001b[0m\n\u001b[1;32m--> 586\u001b[1;33m     \u001b[1;32mreturn\u001b[0m \u001b[0m_read\u001b[0m\u001b[1;33m(\u001b[0m\u001b[0mfilepath_or_buffer\u001b[0m\u001b[1;33m,\u001b[0m \u001b[0mkwds\u001b[0m\u001b[1;33m)\u001b[0m\u001b[1;33m\u001b[0m\u001b[1;33m\u001b[0m\u001b[0m\n\u001b[0m\u001b[0;32m    587\u001b[0m \u001b[1;33m\u001b[0m\u001b[0m\n\u001b[0;32m    588\u001b[0m \u001b[1;33m\u001b[0m\u001b[0m\n",
      "\u001b[1;32mC:\\ProgramData\\Anaconda3\\lib\\site-packages\\pandas\\io\\parsers\\readers.py\u001b[0m in \u001b[0;36m_read\u001b[1;34m(filepath_or_buffer, kwds)\u001b[0m\n\u001b[0;32m    480\u001b[0m \u001b[1;33m\u001b[0m\u001b[0m\n\u001b[0;32m    481\u001b[0m     \u001b[1;31m# Create the parser.\u001b[0m\u001b[1;33m\u001b[0m\u001b[1;33m\u001b[0m\u001b[0m\n\u001b[1;32m--> 482\u001b[1;33m     \u001b[0mparser\u001b[0m \u001b[1;33m=\u001b[0m \u001b[0mTextFileReader\u001b[0m\u001b[1;33m(\u001b[0m\u001b[0mfilepath_or_buffer\u001b[0m\u001b[1;33m,\u001b[0m \u001b[1;33m**\u001b[0m\u001b[0mkwds\u001b[0m\u001b[1;33m)\u001b[0m\u001b[1;33m\u001b[0m\u001b[1;33m\u001b[0m\u001b[0m\n\u001b[0m\u001b[0;32m    483\u001b[0m \u001b[1;33m\u001b[0m\u001b[0m\n\u001b[0;32m    484\u001b[0m     \u001b[1;32mif\u001b[0m \u001b[0mchunksize\u001b[0m \u001b[1;32mor\u001b[0m \u001b[0miterator\u001b[0m\u001b[1;33m:\u001b[0m\u001b[1;33m\u001b[0m\u001b[1;33m\u001b[0m\u001b[0m\n",
      "\u001b[1;32mC:\\ProgramData\\Anaconda3\\lib\\site-packages\\pandas\\io\\parsers\\readers.py\u001b[0m in \u001b[0;36m__init__\u001b[1;34m(self, f, engine, **kwds)\u001b[0m\n\u001b[0;32m    809\u001b[0m             \u001b[0mself\u001b[0m\u001b[1;33m.\u001b[0m\u001b[0moptions\u001b[0m\u001b[1;33m[\u001b[0m\u001b[1;34m\"has_index_names\"\u001b[0m\u001b[1;33m]\u001b[0m \u001b[1;33m=\u001b[0m \u001b[0mkwds\u001b[0m\u001b[1;33m[\u001b[0m\u001b[1;34m\"has_index_names\"\u001b[0m\u001b[1;33m]\u001b[0m\u001b[1;33m\u001b[0m\u001b[1;33m\u001b[0m\u001b[0m\n\u001b[0;32m    810\u001b[0m \u001b[1;33m\u001b[0m\u001b[0m\n\u001b[1;32m--> 811\u001b[1;33m         \u001b[0mself\u001b[0m\u001b[1;33m.\u001b[0m\u001b[0m_engine\u001b[0m \u001b[1;33m=\u001b[0m \u001b[0mself\u001b[0m\u001b[1;33m.\u001b[0m\u001b[0m_make_engine\u001b[0m\u001b[1;33m(\u001b[0m\u001b[0mself\u001b[0m\u001b[1;33m.\u001b[0m\u001b[0mengine\u001b[0m\u001b[1;33m)\u001b[0m\u001b[1;33m\u001b[0m\u001b[1;33m\u001b[0m\u001b[0m\n\u001b[0m\u001b[0;32m    812\u001b[0m \u001b[1;33m\u001b[0m\u001b[0m\n\u001b[0;32m    813\u001b[0m     \u001b[1;32mdef\u001b[0m \u001b[0mclose\u001b[0m\u001b[1;33m(\u001b[0m\u001b[0mself\u001b[0m\u001b[1;33m)\u001b[0m\u001b[1;33m:\u001b[0m\u001b[1;33m\u001b[0m\u001b[1;33m\u001b[0m\u001b[0m\n",
      "\u001b[1;32mC:\\ProgramData\\Anaconda3\\lib\\site-packages\\pandas\\io\\parsers\\readers.py\u001b[0m in \u001b[0;36m_make_engine\u001b[1;34m(self, engine)\u001b[0m\n\u001b[0;32m   1038\u001b[0m             )\n\u001b[0;32m   1039\u001b[0m         \u001b[1;31m# error: Too many arguments for \"ParserBase\"\u001b[0m\u001b[1;33m\u001b[0m\u001b[1;33m\u001b[0m\u001b[0m\n\u001b[1;32m-> 1040\u001b[1;33m         \u001b[1;32mreturn\u001b[0m \u001b[0mmapping\u001b[0m\u001b[1;33m[\u001b[0m\u001b[0mengine\u001b[0m\u001b[1;33m]\u001b[0m\u001b[1;33m(\u001b[0m\u001b[0mself\u001b[0m\u001b[1;33m.\u001b[0m\u001b[0mf\u001b[0m\u001b[1;33m,\u001b[0m \u001b[1;33m**\u001b[0m\u001b[0mself\u001b[0m\u001b[1;33m.\u001b[0m\u001b[0moptions\u001b[0m\u001b[1;33m)\u001b[0m  \u001b[1;31m# type: ignore[call-arg]\u001b[0m\u001b[1;33m\u001b[0m\u001b[1;33m\u001b[0m\u001b[0m\n\u001b[0m\u001b[0;32m   1041\u001b[0m \u001b[1;33m\u001b[0m\u001b[0m\n\u001b[0;32m   1042\u001b[0m     \u001b[1;32mdef\u001b[0m \u001b[0m_failover_to_python\u001b[0m\u001b[1;33m(\u001b[0m\u001b[0mself\u001b[0m\u001b[1;33m)\u001b[0m\u001b[1;33m:\u001b[0m\u001b[1;33m\u001b[0m\u001b[1;33m\u001b[0m\u001b[0m\n",
      "\u001b[1;32mC:\\ProgramData\\Anaconda3\\lib\\site-packages\\pandas\\io\\parsers\\c_parser_wrapper.py\u001b[0m in \u001b[0;36m__init__\u001b[1;34m(self, src, **kwds)\u001b[0m\n\u001b[0;32m     49\u001b[0m \u001b[1;33m\u001b[0m\u001b[0m\n\u001b[0;32m     50\u001b[0m         \u001b[1;31m# open handles\u001b[0m\u001b[1;33m\u001b[0m\u001b[1;33m\u001b[0m\u001b[0m\n\u001b[1;32m---> 51\u001b[1;33m         \u001b[0mself\u001b[0m\u001b[1;33m.\u001b[0m\u001b[0m_open_handles\u001b[0m\u001b[1;33m(\u001b[0m\u001b[0msrc\u001b[0m\u001b[1;33m,\u001b[0m \u001b[0mkwds\u001b[0m\u001b[1;33m)\u001b[0m\u001b[1;33m\u001b[0m\u001b[1;33m\u001b[0m\u001b[0m\n\u001b[0m\u001b[0;32m     52\u001b[0m         \u001b[1;32massert\u001b[0m \u001b[0mself\u001b[0m\u001b[1;33m.\u001b[0m\u001b[0mhandles\u001b[0m \u001b[1;32mis\u001b[0m \u001b[1;32mnot\u001b[0m \u001b[1;32mNone\u001b[0m\u001b[1;33m\u001b[0m\u001b[1;33m\u001b[0m\u001b[0m\n\u001b[0;32m     53\u001b[0m \u001b[1;33m\u001b[0m\u001b[0m\n",
      "\u001b[1;32mC:\\ProgramData\\Anaconda3\\lib\\site-packages\\pandas\\io\\parsers\\base_parser.py\u001b[0m in \u001b[0;36m_open_handles\u001b[1;34m(self, src, kwds)\u001b[0m\n\u001b[0;32m    220\u001b[0m         \u001b[0mLet\u001b[0m \u001b[0mthe\u001b[0m \u001b[0mreaders\u001b[0m \u001b[0mopen\u001b[0m \u001b[0mIOHandles\u001b[0m \u001b[0mafter\u001b[0m \u001b[0mthey\u001b[0m \u001b[0mare\u001b[0m \u001b[0mdone\u001b[0m \u001b[1;32mwith\u001b[0m \u001b[0mtheir\u001b[0m \u001b[0mpotential\u001b[0m \u001b[0mraises\u001b[0m\u001b[1;33m.\u001b[0m\u001b[1;33m\u001b[0m\u001b[1;33m\u001b[0m\u001b[0m\n\u001b[0;32m    221\u001b[0m         \"\"\"\n\u001b[1;32m--> 222\u001b[1;33m         self.handles = get_handle(\n\u001b[0m\u001b[0;32m    223\u001b[0m             \u001b[0msrc\u001b[0m\u001b[1;33m,\u001b[0m\u001b[1;33m\u001b[0m\u001b[1;33m\u001b[0m\u001b[0m\n\u001b[0;32m    224\u001b[0m             \u001b[1;34m\"r\"\u001b[0m\u001b[1;33m,\u001b[0m\u001b[1;33m\u001b[0m\u001b[1;33m\u001b[0m\u001b[0m\n",
      "\u001b[1;32mC:\\ProgramData\\Anaconda3\\lib\\site-packages\\pandas\\io\\common.py\u001b[0m in \u001b[0;36mget_handle\u001b[1;34m(path_or_buf, mode, encoding, compression, memory_map, is_text, errors, storage_options)\u001b[0m\n\u001b[0;32m    700\u001b[0m         \u001b[1;32mif\u001b[0m \u001b[0mioargs\u001b[0m\u001b[1;33m.\u001b[0m\u001b[0mencoding\u001b[0m \u001b[1;32mand\u001b[0m \u001b[1;34m\"b\"\u001b[0m \u001b[1;32mnot\u001b[0m \u001b[1;32min\u001b[0m \u001b[0mioargs\u001b[0m\u001b[1;33m.\u001b[0m\u001b[0mmode\u001b[0m\u001b[1;33m:\u001b[0m\u001b[1;33m\u001b[0m\u001b[1;33m\u001b[0m\u001b[0m\n\u001b[0;32m    701\u001b[0m             \u001b[1;31m# Encoding\u001b[0m\u001b[1;33m\u001b[0m\u001b[1;33m\u001b[0m\u001b[0m\n\u001b[1;32m--> 702\u001b[1;33m             handle = open(\n\u001b[0m\u001b[0;32m    703\u001b[0m                 \u001b[0mhandle\u001b[0m\u001b[1;33m,\u001b[0m\u001b[1;33m\u001b[0m\u001b[1;33m\u001b[0m\u001b[0m\n\u001b[0;32m    704\u001b[0m                 \u001b[0mioargs\u001b[0m\u001b[1;33m.\u001b[0m\u001b[0mmode\u001b[0m\u001b[1;33m,\u001b[0m\u001b[1;33m\u001b[0m\u001b[1;33m\u001b[0m\u001b[0m\n",
      "\u001b[1;31mFileNotFoundError\u001b[0m: [Errno 2] No such file or directory: '/content/my_iris.csv'"
     ]
    }
   ],
   "source": [
    "#verilerin yüklenmesi\n",
    "veriler=pd.read_csv(\"/content/my_iris.csv\")\n",
    "veriler"
   ]
  },
  {
   "cell_type": "code",
   "execution_count": 123,
   "metadata": {
    "colab": {
     "base_uri": "https://localhost:8080/"
    },
    "id": "_N_Yt3d0Y4tF",
    "outputId": "eb32f421-4ceb-4a1a-80d3-06c212a03277"
   },
   "outputs": [
    {
     "name": "stdout",
     "output_type": "stream",
     "text": [
      "petal_length-petal_width: 0.9627570970509662\n",
      "petal_width-petal_length: 0.9627570970509662\n",
      "sepal_length-petal_length: 0.8717541573048716\n",
      "petal_length-sepal_length: 0.8717541573048716\n",
      "sepal_length-petal_width: 0.8179536333691642\n",
      "petal_width-sepal_length: 0.8179536333691642\n",
      "sepal_length-sepal_width: -0.10936924995064931\n",
      "sepal_width-sepal_length: -0.10936924995064931\n",
      "sepal_width-petal_width: -0.35654408961380507\n",
      "petal_width-sepal_width: -0.35654408961380507\n",
      "sepal_width-petal_length: -0.4205160964011539\n",
      "petal_length-sepal_width: -0.4205160964011539\n"
     ]
    },
    {
     "name": "stderr",
     "output_type": "stream",
     "text": [
      "<ipython-input-123-b4fccfc7c866>:2: FutureWarning: The default value of numeric_only in DataFrame.corr is deprecated. In a future version, it will default to False. Select only valid columns or specify the value of numeric_only to silence this warning.\n",
      "  corr_matrix = veriler.corr()\n"
     ]
    }
   ],
   "source": [
    "#KORELASYON İLİŞKİLERİ\n",
    "corr_matrix = veriler.corr()\n",
    "def en_yuksek_iliskiler(corr_matrix):\n",
    "    # Korelasyon matrisini sütunlara göre sıralama\n",
    "    sorted_corr = corr_matrix.unstack().sort_values(ascending=False)\n",
    "\n",
    "    # Sıralanmış korelasyon değerlerinin en yüksek olduğu sütun ikililerini yazdırma\n",
    "    for i, (s1, s2) in enumerate(sorted_corr.index):\n",
    "        if s1 != s2:  # Aynı sütun ikilisini tekrarlamamak için\n",
    "            print(f\"{s1}-{s2}: {sorted_corr[i]}\")\n",
    "\n",
    "# Örnek kullanım\n",
    "en_yuksek_iliskiler(corr_matrix)\n"
   ]
  },
  {
   "cell_type": "code",
   "execution_count": 105,
   "metadata": {
    "id": "QTCxq5oPIkLl"
   },
   "outputs": [],
   "source": [
    "import pandas as pd\n",
    "from sklearn.preprocessing import OneHotEncoder\n",
    "from sklearn.preprocessing import MinMaxScaler\n",
    "\n",
    "def one_hot_encode(data, columns):\n",
    "    # Kategorik sütunları seçme\n",
    "    categorical_data = data[columns]\n",
    "\n",
    "    # One-Hot Encoder oluşturma\n",
    "    encoder = OneHotEncoder(sparse=False, drop='first')\n",
    "\n",
    "    # Kategorik veriyi dönüştürme\n",
    "    encoded_data = encoder.fit_transform(categorical_data)\n",
    "\n",
    "    # One-Hot Encoding sonucunu DataFrame'e dönüştürme\n",
    "    encoded_df = pd.DataFrame(encoded_data, columns=encoder.get_feature_names_out(columns))\n",
    "\n",
    "    # Dönüştürülmüş veriyi orijinal veriyle birleştirme\n",
    "    preprocessed_data = pd.concat([data.drop(columns, axis=1), encoded_df], axis=1)\n",
    "\n",
    "    return preprocessed_data\n",
    "\n",
    "\n",
    "\n",
    "\n",
    "def min_max_scale(data, column):\n",
    "    # Min-Max Scaler oluşturma\n",
    "    scaler = MinMaxScaler()\n",
    "\n",
    "    # Sütunu seçme ve ölçeklendirme\n",
    "    scaled_column = scaler.fit_transform(data[[column]])\n",
    "\n",
    "    # Ölçeklendirilmiş sütunu yeni bir DataFrame'e dönüştürme\n",
    "    scaled_data = pd.DataFrame(scaled_column, columns=[column])\n",
    "\n",
    "    # Ölçeklendirilmiş sütunu orijinal veri setine ekleme\n",
    "    data[column] = scaled_data[column]\n",
    "\n",
    "    return data\n",
    "\n",
    "\n",
    "def fill_nan_with_mean(data):\n",
    "    for column in data.columns:\n",
    "        if data[column].isnull().any():\n",
    "            mean = data[column].mean()\n",
    "            data[column].fillna(mean, inplace=True)\n",
    "    return data\n",
    "\n",
    "\n",
    "def veriOnIsleme(data, columnsForOneHotEncoder, columnsForMinMaxScaler):\n",
    "    dataForOneHot = one_hot_encode(data, columnsForOneHotEncoder)\n",
    "    for column in columnsForMinMaxScaler:\n",
    "        dataForOneHot = min_max_scale(dataForOneHot, column)  # Düzeltme: dataForOneHot kullanılmalı\n",
    "    result = fill_nan_with_mean(dataForOneHot)\n",
    "    return result"
   ]
  },
  {
   "cell_type": "code",
   "execution_count": 138,
   "metadata": {
    "colab": {
     "base_uri": "https://localhost:8080/"
    },
    "id": "X3U-tOQyIkNT",
    "outputId": "c3f65e6e-6bd8-441b-9a61-5a33fc44a88f"
   },
   "outputs": [
    {
     "name": "stderr",
     "output_type": "stream",
     "text": [
      "/usr/local/lib/python3.10/dist-packages/sklearn/preprocessing/_encoders.py:868: FutureWarning: `sparse` was renamed to `sparse_output` in version 1.2 and will be removed in 1.4. `sparse_output` is ignored unless you leave `sparse` to its default value.\n",
      "  warnings.warn(\n"
     ]
    }
   ],
   "source": [
    "veriSetim=pd.read_csv(\"/content/my_iris.csv\")\n",
    "veriOnİslemeliSetDuzelt=veriOnIsleme(veriSetim, [\"species\"], [\"sepal_length\",\"sepal_width\",\"petal_length\",\"petal_width\"])\n",
    "#veriOnİslemeliSetDuzelt=veriOnİslemeliSetDuzelt.drop([\"RowNumber\",\"CustomerId\",\"Surname\", \"Geography\", \"Gender\"], axis=1)\n",
    "\n",
    "MyX = veriOnİslemeliSetDuzelt.drop(columns=\"sepal_length\",axis=1)\n",
    "MyY = veriOnİslemeliSetDuzelt[\"sepal_length\"]\n"
   ]
  },
  {
   "cell_type": "code",
   "execution_count": 140,
   "metadata": {
    "colab": {
     "base_uri": "https://localhost:8080/"
    },
    "id": "O72O1C2Sd1VU",
    "outputId": "f0439dfc-47c7-4a84-ae43-051a046d88d9"
   },
   "outputs": [
    {
     "name": "stdout",
     "output_type": "stream",
     "text": [
      "Sütunda 3 farklı eleman bulunmaktadır.\n"
     ]
    }
   ],
   "source": [
    "# \"sütun_adı\" sütununda kaç farklı eleman olduğunu bulun\n",
    "farkli_eleman_sayisi = veriSetim[\"species\"].nunique()\n",
    "\n",
    "# Sonucu yazdırın\n",
    "print(\"Sütunda\", farkli_eleman_sayisi, \"farklı eleman bulunmaktadır.\")"
   ]
  },
  {
   "cell_type": "code",
   "execution_count": 125,
   "metadata": {
    "colab": {
     "base_uri": "https://localhost:8080/",
     "height": 423
    },
    "id": "pwWIwtauOtxm",
    "outputId": "12db0491-42f6-4db5-d1fe-788a054b1dc4"
   },
   "outputs": [
    {
     "data": {
      "text/html": [
       "\n",
       "  <div id=\"df-149bb42b-0462-417f-9663-8c8d211e8eb2\">\n",
       "    <div class=\"colab-df-container\">\n",
       "      <div>\n",
       "<style scoped>\n",
       "    .dataframe tbody tr th:only-of-type {\n",
       "        vertical-align: middle;\n",
       "    }\n",
       "\n",
       "    .dataframe tbody tr th {\n",
       "        vertical-align: top;\n",
       "    }\n",
       "\n",
       "    .dataframe thead th {\n",
       "        text-align: right;\n",
       "    }\n",
       "</style>\n",
       "<table border=\"1\" class=\"dataframe\">\n",
       "  <thead>\n",
       "    <tr style=\"text-align: right;\">\n",
       "      <th></th>\n",
       "      <th>sepal_width</th>\n",
       "      <th>petal_length</th>\n",
       "      <th>petal_width</th>\n",
       "      <th>species_versicolor</th>\n",
       "      <th>species_virginica</th>\n",
       "    </tr>\n",
       "  </thead>\n",
       "  <tbody>\n",
       "    <tr>\n",
       "      <th>0</th>\n",
       "      <td>0.625000</td>\n",
       "      <td>0.067797</td>\n",
       "      <td>0.041667</td>\n",
       "      <td>0.0</td>\n",
       "      <td>0.0</td>\n",
       "    </tr>\n",
       "    <tr>\n",
       "      <th>1</th>\n",
       "      <td>0.416667</td>\n",
       "      <td>0.067797</td>\n",
       "      <td>0.041667</td>\n",
       "      <td>0.0</td>\n",
       "      <td>0.0</td>\n",
       "    </tr>\n",
       "    <tr>\n",
       "      <th>2</th>\n",
       "      <td>0.500000</td>\n",
       "      <td>0.050847</td>\n",
       "      <td>0.041667</td>\n",
       "      <td>0.0</td>\n",
       "      <td>0.0</td>\n",
       "    </tr>\n",
       "    <tr>\n",
       "      <th>3</th>\n",
       "      <td>0.458333</td>\n",
       "      <td>0.084746</td>\n",
       "      <td>0.041667</td>\n",
       "      <td>0.0</td>\n",
       "      <td>0.0</td>\n",
       "    </tr>\n",
       "    <tr>\n",
       "      <th>4</th>\n",
       "      <td>0.666667</td>\n",
       "      <td>0.067797</td>\n",
       "      <td>0.041667</td>\n",
       "      <td>0.0</td>\n",
       "      <td>0.0</td>\n",
       "    </tr>\n",
       "    <tr>\n",
       "      <th>...</th>\n",
       "      <td>...</td>\n",
       "      <td>...</td>\n",
       "      <td>...</td>\n",
       "      <td>...</td>\n",
       "      <td>...</td>\n",
       "    </tr>\n",
       "    <tr>\n",
       "      <th>145</th>\n",
       "      <td>0.416667</td>\n",
       "      <td>0.711864</td>\n",
       "      <td>0.916667</td>\n",
       "      <td>0.0</td>\n",
       "      <td>1.0</td>\n",
       "    </tr>\n",
       "    <tr>\n",
       "      <th>146</th>\n",
       "      <td>0.208333</td>\n",
       "      <td>0.677966</td>\n",
       "      <td>0.750000</td>\n",
       "      <td>0.0</td>\n",
       "      <td>1.0</td>\n",
       "    </tr>\n",
       "    <tr>\n",
       "      <th>147</th>\n",
       "      <td>0.416667</td>\n",
       "      <td>0.711864</td>\n",
       "      <td>0.791667</td>\n",
       "      <td>0.0</td>\n",
       "      <td>1.0</td>\n",
       "    </tr>\n",
       "    <tr>\n",
       "      <th>148</th>\n",
       "      <td>0.583333</td>\n",
       "      <td>0.745763</td>\n",
       "      <td>0.916667</td>\n",
       "      <td>0.0</td>\n",
       "      <td>1.0</td>\n",
       "    </tr>\n",
       "    <tr>\n",
       "      <th>149</th>\n",
       "      <td>0.416667</td>\n",
       "      <td>0.694915</td>\n",
       "      <td>0.708333</td>\n",
       "      <td>0.0</td>\n",
       "      <td>1.0</td>\n",
       "    </tr>\n",
       "  </tbody>\n",
       "</table>\n",
       "<p>150 rows × 5 columns</p>\n",
       "</div>\n",
       "      <button class=\"colab-df-convert\" onclick=\"convertToInteractive('df-149bb42b-0462-417f-9663-8c8d211e8eb2')\"\n",
       "              title=\"Convert this dataframe to an interactive table.\"\n",
       "              style=\"display:none;\">\n",
       "        \n",
       "  <svg xmlns=\"http://www.w3.org/2000/svg\" height=\"24px\"viewBox=\"0 0 24 24\"\n",
       "       width=\"24px\">\n",
       "    <path d=\"M0 0h24v24H0V0z\" fill=\"none\"/>\n",
       "    <path d=\"M18.56 5.44l.94 2.06.94-2.06 2.06-.94-2.06-.94-.94-2.06-.94 2.06-2.06.94zm-11 1L8.5 8.5l.94-2.06 2.06-.94-2.06-.94L8.5 2.5l-.94 2.06-2.06.94zm10 10l.94 2.06.94-2.06 2.06-.94-2.06-.94-.94-2.06-.94 2.06-2.06.94z\"/><path d=\"M17.41 7.96l-1.37-1.37c-.4-.4-.92-.59-1.43-.59-.52 0-1.04.2-1.43.59L10.3 9.45l-7.72 7.72c-.78.78-.78 2.05 0 2.83L4 21.41c.39.39.9.59 1.41.59.51 0 1.02-.2 1.41-.59l7.78-7.78 2.81-2.81c.8-.78.8-2.07 0-2.86zM5.41 20L4 18.59l7.72-7.72 1.47 1.35L5.41 20z\"/>\n",
       "  </svg>\n",
       "      </button>\n",
       "      \n",
       "  <style>\n",
       "    .colab-df-container {\n",
       "      display:flex;\n",
       "      flex-wrap:wrap;\n",
       "      gap: 12px;\n",
       "    }\n",
       "\n",
       "    .colab-df-convert {\n",
       "      background-color: #E8F0FE;\n",
       "      border: none;\n",
       "      border-radius: 50%;\n",
       "      cursor: pointer;\n",
       "      display: none;\n",
       "      fill: #1967D2;\n",
       "      height: 32px;\n",
       "      padding: 0 0 0 0;\n",
       "      width: 32px;\n",
       "    }\n",
       "\n",
       "    .colab-df-convert:hover {\n",
       "      background-color: #E2EBFA;\n",
       "      box-shadow: 0px 1px 2px rgba(60, 64, 67, 0.3), 0px 1px 3px 1px rgba(60, 64, 67, 0.15);\n",
       "      fill: #174EA6;\n",
       "    }\n",
       "\n",
       "    [theme=dark] .colab-df-convert {\n",
       "      background-color: #3B4455;\n",
       "      fill: #D2E3FC;\n",
       "    }\n",
       "\n",
       "    [theme=dark] .colab-df-convert:hover {\n",
       "      background-color: #434B5C;\n",
       "      box-shadow: 0px 1px 3px 1px rgba(0, 0, 0, 0.15);\n",
       "      filter: drop-shadow(0px 1px 2px rgba(0, 0, 0, 0.3));\n",
       "      fill: #FFFFFF;\n",
       "    }\n",
       "  </style>\n",
       "\n",
       "      <script>\n",
       "        const buttonEl =\n",
       "          document.querySelector('#df-149bb42b-0462-417f-9663-8c8d211e8eb2 button.colab-df-convert');\n",
       "        buttonEl.style.display =\n",
       "          google.colab.kernel.accessAllowed ? 'block' : 'none';\n",
       "\n",
       "        async function convertToInteractive(key) {\n",
       "          const element = document.querySelector('#df-149bb42b-0462-417f-9663-8c8d211e8eb2');\n",
       "          const dataTable =\n",
       "            await google.colab.kernel.invokeFunction('convertToInteractive',\n",
       "                                                     [key], {});\n",
       "          if (!dataTable) return;\n",
       "\n",
       "          const docLinkHtml = 'Like what you see? Visit the ' +\n",
       "            '<a target=\"_blank\" href=https://colab.research.google.com/notebooks/data_table.ipynb>data table notebook</a>'\n",
       "            + ' to learn more about interactive tables.';\n",
       "          element.innerHTML = '';\n",
       "          dataTable['output_type'] = 'display_data';\n",
       "          await google.colab.output.renderOutput(dataTable, element);\n",
       "          const docLink = document.createElement('div');\n",
       "          docLink.innerHTML = docLinkHtml;\n",
       "          element.appendChild(docLink);\n",
       "        }\n",
       "      </script>\n",
       "    </div>\n",
       "  </div>\n",
       "  "
      ],
      "text/plain": [
       "     sepal_width  petal_length  petal_width  species_versicolor  \\\n",
       "0       0.625000      0.067797     0.041667                 0.0   \n",
       "1       0.416667      0.067797     0.041667                 0.0   \n",
       "2       0.500000      0.050847     0.041667                 0.0   \n",
       "3       0.458333      0.084746     0.041667                 0.0   \n",
       "4       0.666667      0.067797     0.041667                 0.0   \n",
       "..           ...           ...          ...                 ...   \n",
       "145     0.416667      0.711864     0.916667                 0.0   \n",
       "146     0.208333      0.677966     0.750000                 0.0   \n",
       "147     0.416667      0.711864     0.791667                 0.0   \n",
       "148     0.583333      0.745763     0.916667                 0.0   \n",
       "149     0.416667      0.694915     0.708333                 0.0   \n",
       "\n",
       "     species_virginica  \n",
       "0                  0.0  \n",
       "1                  0.0  \n",
       "2                  0.0  \n",
       "3                  0.0  \n",
       "4                  0.0  \n",
       "..                 ...  \n",
       "145                1.0  \n",
       "146                1.0  \n",
       "147                1.0  \n",
       "148                1.0  \n",
       "149                1.0  \n",
       "\n",
       "[150 rows x 5 columns]"
      ]
     },
     "execution_count": 125,
     "metadata": {},
     "output_type": "execute_result"
    }
   ],
   "source": [
    "MyX"
   ]
  },
  {
   "cell_type": "code",
   "execution_count": 126,
   "metadata": {
    "colab": {
     "base_uri": "https://localhost:8080/"
    },
    "id": "Myi1lEPchmA_",
    "outputId": "cb649bfd-9f5f-4487-a193-d7e23039f8c7"
   },
   "outputs": [
    {
     "data": {
      "text/plain": [
       "0      0.222222\n",
       "1      0.166667\n",
       "2      0.111111\n",
       "3      0.083333\n",
       "4      0.194444\n",
       "         ...   \n",
       "145    0.666667\n",
       "146    0.555556\n",
       "147    0.611111\n",
       "148    0.527778\n",
       "149    0.444444\n",
       "Name: sepal_length, Length: 150, dtype: float64"
      ]
     },
     "execution_count": 126,
     "metadata": {},
     "output_type": "execute_result"
    }
   ],
   "source": [
    "MyY"
   ]
  },
  {
   "cell_type": "code",
   "execution_count": 127,
   "metadata": {
    "id": "wpfeS2bkPhO9"
   },
   "outputs": [],
   "source": [
    "def parcalamaIslemi(A,B):\n",
    "  from sklearn.model_selection import train_test_split\n",
    "  X_train, X_test, Y_train, Y_test = train_test_split(A, B,test_size=0.2,random_state=42)\n",
    "  return X_train, X_test, Y_train, Y_test"
   ]
  },
  {
   "cell_type": "code",
   "execution_count": 128,
   "metadata": {
    "id": "onkYp3CePh74"
   },
   "outputs": [],
   "source": [
    "MyX_train, MyX_test, MyY_train, MyY_test=parcalamaIslemi(MyX, MyY)"
   ]
  },
  {
   "cell_type": "code",
   "execution_count": 129,
   "metadata": {
    "colab": {
     "base_uri": "https://localhost:8080/"
    },
    "id": "ZwMgPSS60I0M",
    "outputId": "b466d7d3-5ef4-4e06-a984-4eff37631250"
   },
   "outputs": [
    {
     "data": {
      "text/plain": [
       "((120, 5), (120,))"
      ]
     },
     "execution_count": 129,
     "metadata": {},
     "output_type": "execute_result"
    }
   ],
   "source": [
    "MyX_train.shape,MyY_train.shape"
   ]
  },
  {
   "cell_type": "markdown",
   "metadata": {
    "id": "8gwxVLZb0y0M"
   },
   "source": [
    "# **REGRESYONLAR**"
   ]
  },
  {
   "cell_type": "markdown",
   "metadata": {
    "id": "9nIayu-wthes"
   },
   "source": [
    "Linear **Regression**"
   ]
  },
  {
   "cell_type": "code",
   "execution_count": 130,
   "metadata": {
    "id": "gLft9VZyRXBH"
   },
   "outputs": [],
   "source": [
    "#Linear Regression+\n",
    "from sklearn.linear_model import LinearRegression\n",
    "lin_reg = LinearRegression()\n",
    "lin_reg.fit(MyX_train, MyY_train)\n",
    "tahminCoklu = lin_reg.predict(MyX_test)"
   ]
  },
  {
   "cell_type": "code",
   "execution_count": 157,
   "metadata": {
    "colab": {
     "base_uri": "https://localhost:8080/",
     "height": 541
    },
    "id": "_04R4v14tpPR",
    "outputId": "2948d954-8d38-414a-8627-eff116285942"
   },
   "outputs": [
    {
     "data": {
      "image/png": "[encoded data removed]",
      "text/plain": [
       "<Figure size 640x480 with 1 Axes>"
      ]
     },
     "metadata": {},
     "output_type": "display_data"
    },
    {
     "name": "stdout",
     "output_type": "stream",
     "text": [
      "Mean Squared Error (MSE): 0.007117200563867445\n",
      "Coefficient of Determination (R^2): 0.8663720504524018\n",
      "Ortalama Mutlak Hata (MAE): 0.06327077885606754\n",
      "Kök Ortalama Kare Hata (RMSE): 0.08436350255808163\n"
     ]
    }
   ],
   "source": [
    "#LINEAR REGRESSION METRİCS\n",
    "from sklearn.metrics import mean_squared_error, r2_score\n",
    "import matplotlib.pyplot as plt\n",
    "\n",
    "# Calculate metrics\n",
    "mse = mean_squared_error(MyY_test, tahminCoklu)\n",
    "r2 = r2_score(MyY_test, tahminCoklu)\n",
    "\n",
    "# Plot the predicted values against the actual values\n",
    "plt.scatter(MyY_test, tahminCoklu)\n",
    "plt.plot([MyY_test.min(), MyY_test.max()], [MyY_test.min(), MyY_test.max()], 'k--', lw=2)\n",
    "plt.xlabel('Actual')\n",
    "plt.ylabel('Predicted')\n",
    "plt.title('Actual vs. Predicted')\n",
    "plt.show()\n",
    "\n",
    "# Print the metrics\n",
    "print(\"Mean Squared Error (MSE):\", mse)\n",
    "print(\"Coefficient of Determination (R^2):\", r2)\n",
    "\n",
    "#   MAE\n",
    "from sklearn.metrics import mean_absolute_error\n",
    "mae = mean_absolute_error(MyY_test, tahminCoklu)\n",
    "print(\"Ortalama Mutlak Hata (MAE):\", mae)\n",
    "\n",
    "# RMSE\n",
    "rmse = np.sqrt(mse)\n",
    "print(\"Kök Ortalama Kare Hata (RMSE):\", rmse)\n",
    "\n",
    "\n",
    "\n",
    "#plt.scatter(MyX_train.reshape(-1, 1), MyY_train)\n",
    "#plt.plot(MyX_test.reshape(-1, 1),lin_reg.predict(MyX_test.reshape(-1, 1)))\n",
    "#plt.show()\n"
   ]
  },
  {
   "cell_type": "markdown",
   "metadata": {
    "id": "WsfqhR84tqSw"
   },
   "source": [
    "POlİNOMAL **REGRESSİON**"
   ]
  },
  {
   "cell_type": "code",
   "execution_count": 141,
   "metadata": {
    "id": "Wy_gelQgj4BJ"
   },
   "outputs": [],
   "source": [
    "#POlİNOMAL REGRESSİON+\n",
    "from sklearn.preprocessing import PolynomialFeatures\n",
    "poly_reg=PolynomialFeatures(degree=2)\n",
    "x_poly=poly_reg.fit_transform(MyX_train)\n",
    "lin2_reg=LinearRegression()\n",
    "lin2_reg.fit(x_poly,MyY_train)\n",
    "tahminPolynomial=lin2_reg.predict(x_poly)"
   ]
  },
  {
   "cell_type": "code",
   "execution_count": 142,
   "metadata": {
    "colab": {
     "base_uri": "https://localhost:8080/"
    },
    "id": "BndQQxc9tvrP",
    "outputId": "954dd3cb-7983-49d6-d18a-8a6037c97aab"
   },
   "outputs": [
    {
     "name": "stdout",
     "output_type": "stream",
     "text": [
      "Ortalama Kare Hatası (MSE): 0.010209419591610836\n",
      "Determinasyon Katsayısı (R^2): 0.8083145481351027\n",
      "Ortalama Mutlak Hata (MAE): 0.07971974721782792\n",
      "Kök Ortalama Kare Hata (RMSE): 0.10104167254955174\n"
     ]
    }
   ],
   "source": [
    "from sklearn.metrics import mean_squared_error, r2_score, mean_absolute_error\n",
    "from sklearn.preprocessing import PolynomialFeatures\n",
    "import matplotlib.pyplot as plt\n",
    "\n",
    "# Veri setini train ve test kümelerine ayırma\n",
    "MyX_train, MyX_test, MyY_train, MyY_test = parcalamaIslemi(MyX.values, MyY.values.reshape(-1, 1))\n",
    "\n",
    "# Polinom özelliklerini oluşturma\n",
    "poly_reg = PolynomialFeatures(degree=2)\n",
    "x_poly_train = poly_reg.fit_transform(MyX_train)\n",
    "x_poly_test = poly_reg.transform(MyX_test)\n",
    "\n",
    "# Polinom regresyon modelini oluşturma ve eğitme\n",
    "lin2_reg = LinearRegression()\n",
    "lin2_reg.fit(x_poly_train, MyY_train)\n",
    "\n",
    "# Test veri kümesi üzerinde tahmin yapma\n",
    "tahminPolynomial = lin2_reg.predict(x_poly_test)\n",
    "\n",
    "# Hata metriklerini hesaplama\n",
    "mse = mean_squared_error(MyY_test, tahminPolynomial)\n",
    "r2 = r2_score(MyY_test, tahminPolynomial)\n",
    "mae = mean_absolute_error(MyY_test, tahminPolynomial)\n",
    "\n",
    "\n",
    "\n",
    "# Hata metriklerini yazdırma\n",
    "rmse = np.sqrt(mse)\n",
    "print(\"Ortalama Kare Hatası (MSE):\", mse)\n",
    "print(\"Determinasyon Katsayısı (R^2):\", r2)\n",
    "print(\"Ortalama Mutlak Hata (MAE):\", mae)\n",
    "print(\"Kök Ortalama Kare Hata (RMSE):\", rmse)\n"
   ]
  },
  {
   "cell_type": "markdown",
   "metadata": {
    "id": "2rIlDlkrtyxx"
   },
   "source": [
    "Support Vektor **Regression**"
   ]
  },
  {
   "cell_type": "code",
   "execution_count": 145,
   "metadata": {
    "colab": {
     "base_uri": "https://localhost:8080/"
    },
    "id": "2jeW_NwyoEIE",
    "outputId": "953da857-f074-4287-add9-8844ef4c1302"
   },
   "outputs": [
    {
     "name": "stderr",
     "output_type": "stream",
     "text": [
      "/usr/local/lib/python3.10/dist-packages/sklearn/utils/validation.py:1143: DataConversionWarning: A column-vector y was passed when a 1d array was expected. Please change the shape of y to (n_samples, ), for example using ravel().\n",
      "  y = column_or_1d(y, warn=True)\n"
     ]
    }
   ],
   "source": [
    "#Support Vektor Regression+\n",
    "from sklearn.svm import SVR\n",
    "svr_reg = SVR(kernel='linear')\n",
    "svr_reg.fit(MyX_train, MyY_train)\n",
    "tahminSVR=svr_reg.predict(MyX_test)"
   ]
  },
  {
   "cell_type": "code",
   "execution_count": 146,
   "metadata": {
    "colab": {
     "base_uri": "https://localhost:8080/"
    },
    "id": "SQYe_RKFt22Z",
    "outputId": "699d87a8-9eed-406d-c91c-cd55d5ddf675"
   },
   "outputs": [
    {
     "name": "stdout",
     "output_type": "stream",
     "text": [
      "Linear Regression Metrics:\n",
      "Mean Squared Error (MSE): 0.0071922177791988355\n",
      "Coefficient of Determination (R^2): 0.8649635757894288\n",
      "Mean Absolute Error (MAE): 0.0629466738511651\n",
      "Root Mean Squared Error (RMSE): 0.08480694416849859\n"
     ]
    }
   ],
   "source": [
    "#SUPPORT VECTOR REGRESSION METRİCS\n",
    "\n",
    "from sklearn.metrics import mean_squared_error\n",
    "mse_svr = mean_squared_error(MyY_test, tahminSVR)\n",
    "r2_svr = r2_score(MyY_test, tahminSVR)\n",
    "\n",
    "\n",
    "# Linear Regression metriklerini yazdırma\n",
    "print(\"Linear Regression Metrics:\")\n",
    "print(\"Mean Squared Error (MSE):\", mse_svr)\n",
    "print(\"Coefficient of Determination (R^2):\", r2_svr)\n",
    "print(\"Mean Absolute Error (MAE):\", mean_absolute_error(MyY_test, tahminSVR))\n",
    "print(\"Root Mean Squared Error (RMSE):\", np.sqrt(mse_svr))"
   ]
  },
  {
   "cell_type": "markdown",
   "metadata": {
    "id": "KCfrNETkt4TT"
   },
   "source": [
    "Decision **Tree**"
   ]
  },
  {
   "cell_type": "code",
   "execution_count": 147,
   "metadata": {
    "id": "_ugfv7ZtqAxH"
   },
   "outputs": [],
   "source": [
    "#Decision Tree+\n",
    "from sklearn.tree import DecisionTreeRegressor\n",
    "r_dt=DecisionTreeRegressor(random_state=(42))\n",
    "r_dt.fit(MyX_train, MyY_train)\n",
    "tahminDesicionTree=r_dt.predict(MyX_test)"
   ]
  },
  {
   "cell_type": "code",
   "execution_count": 156,
   "metadata": {
    "colab": {
     "base_uri": "https://localhost:8080/",
     "height": 559
    },
    "id": "hrZ4Wrevt8dK",
    "outputId": "3328d10f-b717-4f02-8966-274de935acb4"
   },
   "outputs": [
    {
     "data": {
      "image/png": "[encoded data removed]",
      "text/plain": [
       "<Figure size 640x480 with 1 Axes>"
      ]
     },
     "metadata": {},
     "output_type": "display_data"
    },
    {
     "name": "stdout",
     "output_type": "stream",
     "text": [
      "Decision Tree Metrics:\n",
      "Mean Squared Error (MSE): 0.017804783950617287\n",
      "Coefficient of Determination (R^2): 0.6657089047711029\n",
      "Ortalama Mutlak Hata (MAE): 0.10879629629629631\n",
      "Kök Ortalama Kare Hata (RMSE): 0.13343456804972723\n"
     ]
    }
   ],
   "source": [
    "# Decision Tree METRİCS\n",
    "\n",
    "\n",
    "# Calculate metrics\n",
    "mse_dt = mean_squared_error(MyY_test, tahminDesicionTree)\n",
    "r2_dt = r2_score(MyY_test, tahminDesicionTree)\n",
    "\n",
    "# Plot the predicted values against the actual values\n",
    "plt.scatter(MyY_test, tahminDesicionTree)\n",
    "plt.plot([MyY_test.min(), MyY_test.max()], [MyY_test.min(), MyY_test.max()], 'k--', lw=2)\n",
    "plt.xlabel('Actual')\n",
    "plt.ylabel('Predicted')\n",
    "plt.title('Actual vs. Predicted (Decision Tree)')\n",
    "plt.show()\n",
    "\n",
    "# Print the metrics\n",
    "print(\"Decision Tree Metrics:\")\n",
    "print(\"Mean Squared Error (MSE):\", mse_dt)\n",
    "print(\"Coefficient of Determination (R^2):\", r2_dt)\n",
    "print(\"Ortalama Mutlak Hata (MAE):\", mean_absolute_error(MyY_test, tahminDesicionTree))\n",
    "print(\"Kök Ortalama Kare Hata (RMSE):\", np.sqrt(mse_dt))"
   ]
  },
  {
   "cell_type": "markdown",
   "metadata": {
    "id": "7qPMLP4Ft95b"
   },
   "source": [
    "Random **Forest**"
   ]
  },
  {
   "cell_type": "code",
   "execution_count": 153,
   "metadata": {
    "colab": {
     "base_uri": "https://localhost:8080/"
    },
    "id": "gLGrRpWJsUuM",
    "outputId": "b313f581-4e45-4938-e851-3a34297dd63d"
   },
   "outputs": [
    {
     "name": "stderr",
     "output_type": "stream",
     "text": [
      "<ipython-input-153-3982f4dc1db1>:4: DataConversionWarning: A column-vector y was passed when a 1d array was expected. Please change the shape of y to (n_samples,), for example using ravel().\n",
      "  rf_reg.fit(MyX_train, MyY_train)\n"
     ]
    }
   ],
   "source": [
    "#Random Forest+\n",
    "from sklearn.ensemble import RandomForestRegressor\n",
    "rf_reg=RandomForestRegressor(n_estimators=20,random_state=(42))\n",
    "rf_reg.fit(MyX_train, MyY_train)\n",
    "tahminRandomForest=rf_reg.predict(MyX_test)"
   ]
  },
  {
   "cell_type": "code",
   "execution_count": 155,
   "metadata": {
    "colab": {
     "base_uri": "https://localhost:8080/",
     "height": 541
    },
    "id": "22DWbgFvs2yw",
    "outputId": "3612a1b6-18fc-49aa-971d-22084d5377b0"
   },
   "outputs": [
    {
     "data": {
      "image/png": "[encoded data removed]",
      "text/plain": [
       "<Figure size 640x480 with 1 Axes>"
      ]
     },
     "metadata": {},
     "output_type": "display_data"
    },
    {
     "name": "stdout",
     "output_type": "stream",
     "text": [
      "Mean Squared Error (MSE): 0.0068093198445358955\n",
      "Coefficient of Determination (R^2): 0.8721526194921984\n",
      "Mean Absolute Error (MAE): 0.06333950617283952\n",
      "Root Mean Squared Error (RMSE): 0.08251860302099094\n"
     ]
    }
   ],
   "source": [
    "#RANDOM FOREST METRİCS\n",
    "\n",
    "# Calculate metrics\n",
    "mse_rf = mean_squared_error(MyY_test, tahminRandomForest)\n",
    "r2_rf = r2_score(MyY_test, tahminRandomForest)\n",
    "\n",
    "# Plot the predicted values against the actual values\n",
    "plt.scatter(MyY_test, tahminRandomForest)\n",
    "plt.plot([MyY_test.min(), MyY_test.max()], [MyY_test.min(), MyY_test.max()], 'k--', lw=2)\n",
    "plt.xlabel('Actual')\n",
    "plt.ylabel('Predicted')\n",
    "plt.title('Actual vs. Predicted (Random Forest)')\n",
    "plt.show()\n",
    "\n",
    "# Print the metrics\n",
    "print(\"Mean Squared Error (MSE):\", mse_rf)\n",
    "print(\"Coefficient of Determination (R^2):\", r2_rf)\n",
    "\n",
    "# MAE\n",
    "mae_rf = mean_absolute_error(MyY_test, tahminRandomForest)\n",
    "print(\"Mean Absolute Error (MAE):\", mae_rf)\n",
    "\n",
    "# RMSE\n",
    "rmse_rf = np.sqrt(mse_rf)\n",
    "print(\"Root Mean Squared Error (RMSE):\", rmse_rf)\n"
   ]
  },
  {
   "cell_type": "markdown",
   "metadata": {
    "id": "nvgCXF0jhPLI"
   },
   "source": [
    "**TABLOLAR**"
   ]
  },
  {
   "cell_type": "code",
   "execution_count": 158,
   "metadata": {
    "colab": {
     "base_uri": "https://localhost:8080/"
    },
    "id": "CQYjWJdyf0U5",
    "outputId": "4883b546-f4b9-47fb-a502-32b99148fd72"
   },
   "outputs": [
    {
     "name": "stdout",
     "output_type": "stream",
     "text": [
      "Model                             MSE       R^2        MAE       RMSE\n",
      "-------------------------  ----------  --------  ---------  ---------\n",
      "Linear Regression          0.0071172   0.866372  0.0632708  0.0843635\n",
      "Polynomial Regression      0.0102094   0.808315  0.0797197  0.101042\n",
      "Support Vector Regression  0.00719222  0.864964  0.0629467  0.0848069\n",
      "Decision Tree Regression   0.0178048   0.665709  0.108796   0.133435\n",
      "Random Forest Regression   0.00680932  0.872153  0.0633395  0.0825186\n"
     ]
    }
   ],
   "source": [
    "from sklearn.metrics import mean_squared_error, r2_score, mean_absolute_error\n",
    "from tabulate import tabulate\n",
    "\n",
    "# Initialize an empty list to store the results\n",
    "results = []\n",
    "\n",
    "# Linear Regression\n",
    "mse_lr = mean_squared_error(MyY_test, tahminCoklu)\n",
    "r2_lr = r2_score(MyY_test, tahminCoklu)\n",
    "mae_lr = mean_absolute_error(MyY_test, tahminCoklu)\n",
    "rmse_lr = np.sqrt(mse_lr)\n",
    "results.append([\"Linear Regression\", mse_lr, r2_lr, mae_lr, rmse_lr])\n",
    "\n",
    "# Polynomial Regression\n",
    "mse_pr = mean_squared_error(MyY_test, tahminPolynomial)\n",
    "r2_pr = r2_score(MyY_test, tahminPolynomial)\n",
    "mae_pr = mean_absolute_error(MyY_test, tahminPolynomial)\n",
    "rmse_pr = np.sqrt(mse_pr)\n",
    "results.append([\"Polynomial Regression\", mse_pr, r2_pr, mae_pr, rmse_pr])\n",
    "\n",
    "# Support Vector Regression\n",
    "mse_svr = mean_squared_error(MyY_test, tahminSVR)\n",
    "r2_svr = r2_score(MyY_test, tahminSVR)\n",
    "mae_svr = mean_absolute_error(MyY_test, tahminSVR)\n",
    "rmse_svr = np.sqrt(mse_svr)\n",
    "results.append([\"Support Vector Regression\", mse_svr, r2_svr, mae_svr, rmse_svr])\n",
    "\n",
    "# Decision Tree Regression\n",
    "mse_dt = mean_squared_error(MyY_test, tahminDesicionTree)\n",
    "r2_dt = r2_score(MyY_test, tahminDesicionTree)\n",
    "mae_dt = mean_absolute_error(MyY_test, tahminDesicionTree)\n",
    "rmse_dt = np.sqrt(mse_dt)\n",
    "results.append([\"Decision Tree Regression\", mse_dt, r2_dt, mae_dt, rmse_dt])\n",
    "\n",
    "# Random Forest Regression\n",
    "mse_rf = mean_squared_error(MyY_test, tahminRandomForest)\n",
    "r2_rf = r2_score(MyY_test, tahminRandomForest)\n",
    "mae_rf = mean_absolute_error(MyY_test, tahminRandomForest)\n",
    "rmse_rf = np.sqrt(mse_rf)\n",
    "results.append([\"Random Forest Regression\", mse_rf, r2_rf, mae_rf, rmse_rf])\n",
    "\n",
    "# Define headers for the table\n",
    "headers = [\"Model\", \"MSE\", \"R^2\", \"MAE\", \"RMSE\"]\n",
    "\n",
    "# Print the results as a table\n",
    "print(tabulate(results, headers=headers))\n"
   ]
  },
  {
   "cell_type": "code",
   "execution_count": null,
   "metadata": {
    "id": "ZQEYdj57gSCP"
   },
   "outputs": [],
   "source": [
    "import matplotlib.pyplot as plt\n",
    "\n",
    "models = ['Linear Regression', 'Polynomial Regression', 'Support Vector Regression', 'Decision Tree Regression', 'Random Forest Regression']\n",
    "mse_values = [mse_lr, mse_pr, mse_svr, mse_dt, mse_rf]\n",
    "r2_values = [r2_lr, r2_pr, r2_svr, r2_dt, r2_rf]\n",
    "mae_values = [mae_lr, mae_pr, mae_svr, mae_dt, mae_rf]\n",
    "rmse_values = [rmse_lr, rmse_pr, rmse_svr, rmse_dt, rmse_rf]\n",
    "\n",
    "# MSE Plot\n",
    "plt.figure(figsize=(10, 6))\n",
    "plt.bar(models, mse_values, color='blue')\n",
    "plt.xlabel('Model')\n",
    "plt.ylabel('MSE')\n",
    "plt.title('MSE Values of Regression Models')\n",
    "plt.xticks(rotation=45)\n",
    "plt.show()\n",
    "\n",
    "# R^2 Plot\n",
    "plt.figure(figsize=(10, 6))\n",
    "plt.bar(models, r2_values, color='green')\n",
    "plt.xlabel('Model')\n",
    "plt.ylabel('R^2')\n",
    "plt.title('R^2 Values of Regression Models')\n",
    "plt.xticks(rotation=45)\n",
    "plt.show()\n",
    "\n",
    "# MAE Plot\n",
    "plt.figure(figsize=(10, 6))\n",
    "plt.bar(models, mae_values, color='red')\n",
    "plt.xlabel('Model')\n",
    "plt.ylabel('MAE')\n",
    "plt.title('MAE Values of Regression Models')\n",
    "plt.xticks(rotation=45)\n",
    "plt.show()\n",
    "\n",
    "# RMSE Plot\n",
    "plt.figure(figsize=(10, 6))\n",
    "plt.bar(models, rmse_values, color='purple')\n",
    "plt.xlabel('Model')\n",
    "plt.ylabel('RMSE')\n",
    "plt.title('RMSE Values of Regression Models')\n",
    "plt.xticks(rotation=45)\n",
    "plt.show()\n"
   ]
  },
  {
   "cell_type": "code",
   "execution_count": null,
   "metadata": {
    "id": "z9TRSVi0hD1f"
   },
   "outputs": [],
   "source": [
    "import matplotlib.pyplot as plt\n",
    "\n",
    "models = ['Linear Regression', 'Polynomial Regression', 'Support Vector Regression', 'Decision Tree Regression', 'Random Forest Regression']\n",
    "mse_values = [mse_lr, mse_pr, mse_svr, mse_dt, mse_rf]\n",
    "r2_values = [r2_lr, r2_pr, r2_svr, r2_dt, r2_rf]\n",
    "mae_values = [mae_lr, mae_pr, mae_svr, mae_dt, mae_rf]\n",
    "rmse_values = [rmse_lr, rmse_pr, rmse_svr, rmse_dt, rmse_rf]\n",
    "\n",
    "# MSE Plot\n",
    "plt.figure(figsize=(10, 6))\n",
    "plt.scatter(models, mse_values, color='blue', marker='o')\n",
    "plt.xlabel('Model')\n",
    "plt.ylabel('MSE')\n",
    "plt.title('MSE Values of Regression Models')\n",
    "plt.xticks(rotation=45)\n",
    "plt.grid(True)\n",
    "\n",
    "# Yazıları ekleme\n",
    "for i in range(len(models)):\n",
    "    plt.text(models[i], mse_values[i], f\"{mse_values[i]:.3f}\", ha='center', va='bottom')\n",
    "\n",
    "plt.show()\n",
    "\n",
    "# R^2 Plot\n",
    "plt.figure(figsize=(10, 6))\n",
    "plt.scatter(models, r2_values, color='green', marker='o')\n",
    "plt.xlabel('Model')\n",
    "plt.ylabel('R^2')\n",
    "plt.title('R^2 Values of Regression Models')\n",
    "plt.xticks(rotation=45)\n",
    "plt.grid(True)\n",
    "\n",
    "# Yazıları ekleme\n",
    "for i in range(len(models)):\n",
    "    plt.text(models[i], r2_values[i], f\"{r2_values[i]:.3f}\", ha='center', va='bottom')\n",
    "\n",
    "plt.show()\n",
    "\n",
    "# MAE Plot\n",
    "plt.figure(figsize=(10, 6))\n",
    "plt.scatter(models, mae_values, color='red', marker='o')\n",
    "plt.xlabel('Model')\n",
    "plt.ylabel('MAE')\n",
    "plt.title('MAE Values of Regression Models')\n",
    "plt.xticks(rotation=45)\n",
    "plt.grid(True)\n",
    "\n",
    "# Yazıları ekleme\n",
    "for i in range(len(models)):\n",
    "    plt.text(models[i], mae_values[i], f\"{mae_values[i]:.3f}\", ha='center', va='bottom')\n",
    "\n",
    "plt.show()\n",
    "\n",
    "# RMSE Plot\n",
    "plt.figure(figsize=(10, 6))\n",
    "plt.scatter(models, rmse_values, color='purple', marker='o')\n",
    "plt.xlabel('Model')\n",
    "plt.ylabel('RMSE')\n",
    "plt.title('RMSE Values of Regression Models')\n",
    "plt.xticks(rotation=45)\n",
    "plt.grid(True)\n",
    "\n",
    "# Yazıları ekleme\n",
    "for i in range(len(models)):\n",
    "    plt.text(models[i], rmse_values[i], f\"{rmse_values[i]:.3f}\", ha='center', va='bottom')\n",
    "\n",
    "plt.show()\n"
   ]
  }
 ],
 "metadata": {
  "accelerator": "GPU",
  "colab": {
   "gpuType": "T4",
   "provenance": []
  },
  "kernelspec": {
   "display_name": "Python 3 (ipykernel)",
   "language": "python",
   "name": "python3"
  },
  "language_info": {
   "codemirror_mode": {
    "name": "ipython",
    "version": 3
   },
   "file_extension": ".py",
   "mimetype": "text/x-python",
   "name": "python",
   "nbconvert_exporter": "python",
   "pygments_lexer": "ipython3",
   "version": "3.9.7"
  }
 },
 "nbformat": 4,
 "nbformat_minor": 1
}
